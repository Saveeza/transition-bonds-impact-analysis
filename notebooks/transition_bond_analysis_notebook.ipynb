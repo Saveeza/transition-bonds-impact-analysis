{
 "cells": [
  {
   "cell_type": "markdown",
   "id": "121bcf71",
   "metadata": {},
   "source": [
    "# 📊 Transition Bonds Data Analysis\n",
    "\n",
    "This notebook analyzes real-world transition bond issuance data by region and sector, based on estimates reconstructed from referenced sources (CBI, OECD, BloombergNEF, etc.)."
   ]
  },
  {
   "cell_type": "code",
   "execution_count": null,
   "id": "b37d6341",
   "metadata": {},
   "outputs": [],
   "source": [
    "import pandas as pd\n",
    "import matplotlib.pyplot as plt"
   ]
  },
  {
   "cell_type": "markdown",
   "id": "60fd1a9d",
   "metadata": {},
   "source": [
    "## 🌍 Issuance by Region (2019–2023)"
   ]
  },
  {
   "cell_type": "code",
   "execution_count": null,
   "id": "9c541ce0",
   "metadata": {},
   "outputs": [],
   "source": [
    "df_region = pd.read_csv('../data/real_transition_bonds_by_region.csv')\n",
    "df_region"
   ]
  },
  {
   "cell_type": "code",
   "execution_count": null,
   "id": "3623e4e8",
   "metadata": {},
   "outputs": [],
   "source": [
    "plt.figure(figsize=(8,5))\n",
    "for region in df_region.columns[1:]:\n",
    "    plt.plot(df_region['Year'], df_region[region], marker='o', label=region)\n",
    "\n",
    "plt.title('Transition Bond Issuance by Region (2019–2023)')\n",
    "plt.xlabel('Year')\n",
    "plt.ylabel('USD Billion')\n",
    "plt.grid(True)\n",
    "plt.legend()\n",
    "plt.tight_layout()\n",
    "plt.show()"
   ]
  },
  {
   "cell_type": "markdown",
   "id": "910b1aea",
   "metadata": {},
   "source": [
    "## 🏭 Issuance by Sector (2021–2023)"
   ]
  },
  {
   "cell_type": "code",
   "execution_count": null,
   "id": "038ae982",
   "metadata": {},
   "outputs": [],
   "source": [
    "df_sector = pd.read_csv('../data/transition_bonds_by_sector.csv')\n",
    "df_sector"
   ]
  },
  {
   "cell_type": "code",
   "execution_count": null,
   "id": "8437fa4d",
   "metadata": {},
   "outputs": [],
   "source": [
    "years = ['2021', '2022', '2023']\n",
    "bottom = [0, 0, 0]\n",
    "plt.figure(figsize=(8,5))\n",
    "for i, sector in enumerate(df_sector['Sector']):\n",
    "    values = df_sector.iloc[i, 1:].values\n",
    "    plt.bar(years, values, bottom=bottom, label=sector)\n",
    "    bottom = [sum(x) for x in zip(bottom, values)]\n",
    "\n",
    "plt.title('Transition Bond Issuance by Sector (2021–2023)')\n",
    "plt.xlabel('Year')\n",
    "plt.ylabel('USD Billion')\n",
    "plt.legend()\n",
    "plt.tight_layout()\n",
    "plt.show()"
   ]
  },
  {
   "cell_type": "markdown",
   "id": "e370f634",
   "metadata": {},
   "source": [
    "### 📌 Notes\n",
    "These datasets are based on trends described in:\n",
    "- Climate Bonds Initiative\n",
    "- BloombergNEF\n",
    "- OECD Transition Finance Framework\n",
    "- McKinsey & Co.\n",
    "\n",
    "Values are reconstructed for educational and professional demonstration purposes."
   ]
  }
 ],
 "metadata": {},
 "nbformat": 4,
 "nbformat_minor": 5
}
